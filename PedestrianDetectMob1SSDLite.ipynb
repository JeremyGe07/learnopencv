{
  "nbformat": 4,
  "nbformat_minor": 0,
  "metadata": {
    "colab": {
      "name": "PedestrianDetectMob1SSDLite",
      "provenance": [],
      "collapsed_sections": [],
      "authorship_tag": "ABX9TyOPvf2np6hXwNcrI42AtYTC",
      "include_colab_link": true
    },
    "kernelspec": {
      "name": "python3",
      "display_name": "Python 3"
    },
    "language_info": {
      "name": "python"
    },
    "accelerator": "GPU"
  },
  "cells": [
    {
      "cell_type": "markdown",
      "metadata": {
        "id": "view-in-github",
        "colab_type": "text"
      },
      "source": [
        "<a href=\"https://colab.research.google.com/github/JeremyGe07/learnopencv/blob/master/PedestrianDetectMob1SSDLite.ipynb\" target=\"_parent\"><img src=\"https://colab.research.google.com/assets/colab-badge.svg\" alt=\"Open In Colab\"/></a>"
      ]
    },
    {
      "cell_type": "code",
      "execution_count": null,
      "metadata": {
        "colab": {
          "base_uri": "https://localhost:8080/"
        },
        "id": "QzGdj0_tqYoU",
        "outputId": "b54299cd-33ee-4b27-e2a1-99eda01adbb0"
      },
      "outputs": [
        {
          "output_type": "stream",
          "name": "stdout",
          "text": [
            "Thu Mar 17 10:01:12 2022       \n",
            "+-----------------------------------------------------------------------------+\n",
            "| NVIDIA-SMI 460.32.03    Driver Version: 460.32.03    CUDA Version: 11.2     |\n",
            "|-------------------------------+----------------------+----------------------+\n",
            "| GPU  Name        Persistence-M| Bus-Id        Disp.A | Volatile Uncorr. ECC |\n",
            "| Fan  Temp  Perf  Pwr:Usage/Cap|         Memory-Usage | GPU-Util  Compute M. |\n",
            "|                               |                      |               MIG M. |\n",
            "|===============================+======================+======================|\n",
            "|   0  Tesla K80           Off  | 00000000:00:04.0 Off |                    0 |\n",
            "| N/A   34C    P8    28W / 149W |      0MiB / 11441MiB |      0%      Default |\n",
            "|                               |                      |                  N/A |\n",
            "+-------------------------------+----------------------+----------------------+\n",
            "                                                                               \n",
            "+-----------------------------------------------------------------------------+\n",
            "| Processes:                                                                  |\n",
            "|  GPU   GI   CI        PID   Type   Process name                  GPU Memory |\n",
            "|        ID   ID                                                   Usage      |\n",
            "|=============================================================================|\n",
            "|  No running processes found                                                 |\n",
            "+-----------------------------------------------------------------------------+\n"
          ]
        }
      ],
      "source": [
        "!/opt/bin/nvidia-smi"
      ]
    },
    {
      "cell_type": "code",
      "metadata": {
        "id": "dNNdazup4OtO",
        "colab": {
          "base_uri": "https://localhost:8080/"
        },
        "outputId": "ce5b1466-abb0-4fc0-817f-f8cc9b50da75"
      },
      "source": [
        "from google.colab import drive\n",
        "drive.mount('/content/drive')"
      ],
      "execution_count": null,
      "outputs": [
        {
          "output_type": "stream",
          "name": "stdout",
          "text": [
            "Mounted at /content/drive\n"
          ]
        }
      ]
    },
    {
      "cell_type": "code",
      "source": [
        "import shutil\n",
        "shutil.copy(\"/content/drive/MyDrive/object_detection_pytorch_ssd.rar\",\"/content/object_detection_pytorch_ssd/object_detection_pytorch_ssd.rar\")\n"
      ],
      "metadata": {
        "colab": {
          "base_uri": "https://localhost:8080/",
          "height": 35
        },
        "id": "1X50iZLoE-cG",
        "outputId": "4fca9959-65ed-4b35-9fe8-346c80c998ab"
      },
      "execution_count": null,
      "outputs": [
        {
          "output_type": "execute_result",
          "data": {
            "text/plain": [
              "'/content/object_detection_pytorch_ssd/object_detection_pytorch_ssd.rar'"
            ],
            "application/vnd.google.colaboratory.intrinsic+json": {
              "type": "string"
            }
          },
          "metadata": {},
          "execution_count": 7
        }
      ]
    },
    {
      "cell_type": "code",
      "source": [
        "# unzip\n",
        "!unrar x \"/content/object_detection_pytorch_ssd/object_detection_pytorch_ssd.rar\" "
      ],
      "metadata": {
        "id": "mIGOYYr8Mc8F"
      },
      "execution_count": null,
      "outputs": []
    },
    {
      "cell_type": "code",
      "source": [
        "# unzip\n",
        "!unrar x \"/content/drive/MyDrive/yolo/VOCdevkit.rar\" "
      ],
      "metadata": {
        "id": "GqVlqWLQLJwt"
      },
      "execution_count": null,
      "outputs": []
    },
    {
      "cell_type": "code",
      "source": [
        "import os \n",
        "os.chdir(\"/content/object_detection_pytorch_ssd\")\n",
        "\n",
        "!python train_ssd.py\n"
      ],
      "metadata": {
        "colab": {
          "base_uri": "https://localhost:8080/"
        },
        "id": "a2l00NgnMsn4",
        "outputId": "67fc7e0d-3a6a-4415-e8e2-fffba955d490"
      },
      "execution_count": null,
      "outputs": [
        {
          "output_type": "stream",
          "name": "stdout",
          "text": [
            "python3: can't open file 'train_ssd.py': [Errno 2] No such file or directory\n"
          ]
        }
      ]
    },
    {
      "cell_type": "code",
      "source": [
        "import shutil\n",
        "shutil.copy(\"/content/drive/MyDrive/object_detection_pytorch_ssd_class2.rar\",\"/content/object_detection_pytorch_ssd/object_detection_pytorch_ssd_class2.rar\")\n",
        "!unrar x \"/content/object_detection_pytorch_ssd/object_detection_pytorch_ssd_class2.rar\" "
      ],
      "metadata": {
        "id": "q_60i80aNQxw"
      },
      "execution_count": null,
      "outputs": []
    },
    {
      "cell_type": "code",
      "source": [
        "import os \n",
        "os.chdir(\"/content/object_detection_pytorch_ssd/object_detection_pytorch_ssd\")\n",
        "\n",
        "!CUDA_LAUNCH_BLOCKING=1 python train_ssd.py \n"
      ],
      "metadata": {
        "colab": {
          "base_uri": "https://localhost:8080/"
        },
        "id": "i8vdEWMKNttl",
        "outputId": "114b2aaf-e57d-458a-b6c4-366e1e404518"
      },
      "execution_count": null,
      "outputs": [
        {
          "output_type": "stream",
          "name": "stdout",
          "text": [
            "2022-03-17 06:31:05,524 - root - INFO - Use Cuda.\n",
            "2022-03-17 06:31:05,524 - root - INFO - Namespace(balance_data=False, base_net=None, base_net_lr=None, batch_size=32, checkpoint_folder='models/', dataset_type='voc', datasets=['./VOC2007'], debug_steps=100, extra_layers_lr=None, freeze_base_net=False, freeze_net=False, gamma=0.1, lr=0.001, mb2_width_mult=1.0, milestones='80,100', momentum=0.9, net='mb1-ssd-lite', num_epochs=120, num_workers=0, pretrained_ssd=None, resume=None, scheduler='multi-step', t_max=120, use_cuda=True, validation_dataset='./VOC2007', validation_epochs=5, weight_decay=0.0005)\n",
            "2022-03-17 06:31:05,525 - root - INFO - Prepare training datasets.\n",
            "2022-03-17 06:31:05,525 - root - INFO - No labels file, using default VOC classes.\n",
            "2022-03-17 06:31:05,525 - root - INFO - Stored labels into file models/voc-model-labels.txt.\n",
            "2022-03-17 06:31:05,525 - root - INFO - Train dataset size: 971\n",
            "2022-03-17 06:31:05,526 - root - INFO - Prepare Validation datasets.\n",
            "2022-03-17 06:31:05,526 - root - INFO - No labels file, using default VOC classes.\n",
            "2022-03-17 06:31:05,526 - root - INFO - validation dataset size: 108\n",
            "2022-03-17 06:31:05,526 - root - INFO - Build network.\n",
            "2022-03-17 06:31:05,572 - root - INFO - Took 0.00 seconds to load the model.\n",
            "2022-03-17 06:31:09,503 - root - INFO - Learning rate: 0.001, Base net learning rate: 0.001, Extra Layers learning rate: 0.001.\n",
            "2022-03-17 06:31:09,504 - root - INFO - Uses MultiStepLR scheduler.\n",
            "2022-03-17 06:31:09,504 - root - INFO - Start training from epoch 0.\n",
            "/usr/local/lib/python3.7/dist-packages/torch/optim/lr_scheduler.py:134: UserWarning: Detected call of `lr_scheduler.step()` before `optimizer.step()`. In PyTorch 1.1.0 and later, you should call them in the opposite order: `optimizer.step()` before `lr_scheduler.step()`.  Failure to do this will result in PyTorch skipping the first value of the learning rate schedule. See more details at https://pytorch.org/docs/stable/optim.html#how-to-adjust-learning-rate\n",
            "  \"https://pytorch.org/docs/stable/optim.html#how-to-adjust-learning-rate\", UserWarning)\n",
            "/content/object_detection_pytorch_ssd/object_detection_pytorch_ssd/vision/transforms/transforms.py:247: VisibleDeprecationWarning: Creating an ndarray from ragged nested sequences (which is a list-or-tuple of lists-or-tuples-or ndarrays with different lengths or shapes) is deprecated. If you meant to do this, you must specify 'dtype=object' when creating the ndarray.\n",
            "  mode = random.choice(self.sample_options)\n",
            "/usr/local/lib/python3.7/dist-packages/torch/nn/_reduction.py:42: UserWarning: size_average and reduce args will be deprecated, please use reduction='sum' instead.\n",
            "  warnings.warn(warning.format(ret))\n",
            "2022-03-17 06:31:44,486 - root - INFO - Epoch: 0, Validation Loss: 5.9084, Validation Regression Loss 3.1573, Validation Classification Loss: 2.7510\n",
            "2022-03-17 06:31:44,533 - root - INFO - Saved model models/mb1-ssd-lite-Epoch-0-Loss-5.9083571434021.pth\n",
            "tcmalloc: large alloc 1362157568 bytes == 0x55f810240000 @  0x7f7ddb2b0001 0x7f7cd9e9b1af 0x7f7cd9ef1c23 0x7f7cd9ef2a87 0x7f7cd9f94823 0x55f6f7b7b34c 0x55f6f7b7b120 0x55f6f7befb80 0x55f6f7b7cf19 0x55f6f7bc0a79 0x55f6f7b7bb32 0x55f6f7bef1dd 0x55f6f7bea02f 0x55f6f7b7d151 0x55f6f7bc0a79 0x55f6f7b7bb32 0x55f6f7befa6d 0x55f6f7b7cf19 0x55f6f7bc0a79 0x55f6f7b7bb32 0x55f6f7befa6d 0x55f6f7b7ea6b 0x55f6f7bc0029 0x55f6f7bbff9c 0x55f6f7c64129 0x55f6f7beb417 0x55f6f7b7ea6b 0x55f6f7bc0029 0x55f6f7bbff9c 0x55f6f7c64129 0x55f6f7beb417\n",
            "tcmalloc: large alloc 2031329280 bytes == 0x55f8275e0000 @  0x7f7ddb2b0001 0x7f7cd9e9b1af 0x7f7cd9ef1c23 0x7f7cd9ef2a87 0x7f7cd9f94823 0x55f6f7b7b34c 0x55f6f7b7b120 0x55f6f7befb80 0x55f6f7b7cf19 0x55f6f7bc0a79 0x55f6f7b7bb32 0x55f6f7bef1dd 0x55f6f7bea02f 0x55f6f7b7d151 0x55f6f7bc0a79 0x55f6f7b7bb32 0x55f6f7befa6d 0x55f6f7b7cf19 0x55f6f7bc0a79 0x55f6f7b7bb32 0x55f6f7befa6d 0x55f6f7b7ea6b 0x55f6f7bc0029 0x55f6f7bbff9c 0x55f6f7c64129 0x55f6f7beb417 0x55f6f7b7ea6b 0x55f6f7bc0029 0x55f6f7bbff9c 0x55f6f7c64129 0x55f6f7beb417\n",
            "tcmalloc: large alloc 1865441280 bytes == 0x55f8112c0000 @  0x7f7ddb2b0001 0x7f7cd9e9b1af 0x7f7cd9ef1c23 0x7f7cd9ef2a87 0x7f7cd9f94823 0x55f6f7b7b34c 0x55f6f7b7b120 0x55f6f7befb80 0x55f6f7b7cf19 0x55f6f7bc0a79 0x55f6f7b7bb32 0x55f6f7bef1dd 0x55f6f7bea02f 0x55f6f7b7d151 0x55f6f7bc0a79 0x55f6f7b7bb32 0x55f6f7befa6d 0x55f6f7b7cf19 0x55f6f7bc0a79 0x55f6f7b7bb32 0x55f6f7befa6d 0x55f6f7b7ea6b 0x55f6f7bc0029 0x55f6f7bbff9c 0x55f6f7c64129 0x55f6f7beb417 0x55f6f7b7ea6b 0x55f6f7bc0029 0x55f6f7bbff9c 0x55f6f7c64129 0x55f6f7beb417\n",
            "2022-03-17 06:34:33,651 - root - INFO - Epoch: 5, Validation Loss: 5.5254, Validation Regression Loss 3.0044, Validation Classification Loss: 2.5210\n",
            "2022-03-17 06:34:33,698 - root - INFO - Saved model models/mb1-ssd-lite-Epoch-5-Loss-5.525360107421875.pth\n",
            "tcmalloc: large alloc 1607655424 bytes == 0x55f8112c0000 @  0x7f7ddb2b0001 0x7f7cd9e9b1af 0x7f7cd9ef1c23 0x7f7cd9ef2a87 0x7f7cd9f94823 0x55f6f7b7b34c 0x55f6f7b7b120 0x55f6f7befb80 0x55f6f7b7cf19 0x55f6f7bc0a79 0x55f6f7b7bb32 0x55f6f7bef1dd 0x55f6f7bea02f 0x55f6f7b7d151 0x55f6f7bc0a79 0x55f6f7b7bb32 0x55f6f7befa6d 0x55f6f7b7cf19 0x55f6f7bc0a79 0x55f6f7b7bb32 0x55f6f7befa6d 0x55f6f7b7ea6b 0x55f6f7bc0029 0x55f6f7bbff9c 0x55f6f7c64129 0x55f6f7beb417 0x55f6f7b7ea6b 0x55f6f7bc0029 0x55f6f7bbff9c 0x55f6f7c64129 0x55f6f7beb417\n",
            "tcmalloc: large alloc 1988911104 bytes == 0x55f8112c0000 @  0x7f7ddb2b0001 0x7f7cd9e9b1af 0x7f7cd9ef1c23 0x7f7cd9ef2a87 0x7f7cd9f94823 0x55f6f7b7b34c 0x55f6f7b7b120 0x55f6f7befb80 0x55f6f7b7cf19 0x55f6f7bc0a79 0x55f6f7b7bb32 0x55f6f7bef1dd 0x55f6f7bea02f 0x55f6f7b7d151 0x55f6f7bc0a79 0x55f6f7b7bb32 0x55f6f7befa6d 0x55f6f7b7cf19 0x55f6f7bc0a79 0x55f6f7b7bb32 0x55f6f7befa6d 0x55f6f7b7ea6b 0x55f6f7bc0029 0x55f6f7bbff9c 0x55f6f7c64129 0x55f6f7beb417 0x55f6f7b7ea6b 0x55f6f7bc0029 0x55f6f7bbff9c 0x55f6f7c64129 0x55f6f7beb417\n",
            "2022-03-17 06:37:19,868 - root - INFO - Epoch: 10, Validation Loss: 5.3751, Validation Regression Loss 2.9738, Validation Classification Loss: 2.4013\n",
            "2022-03-17 06:37:19,907 - root - INFO - Saved model models/mb1-ssd-lite-Epoch-10-Loss-5.375069618225098.pth\n",
            "2022-03-17 06:40:03,174 - root - INFO - Epoch: 15, Validation Loss: 5.3139, Validation Regression Loss 2.9491, Validation Classification Loss: 2.3648\n",
            "2022-03-17 06:40:03,213 - root - INFO - Saved model models/mb1-ssd-lite-Epoch-15-Loss-5.313899040222168.pth\n",
            "2022-03-17 06:42:50,170 - root - INFO - Epoch: 20, Validation Loss: 5.2492, Validation Regression Loss 2.9073, Validation Classification Loss: 2.3419\n",
            "2022-03-17 06:42:50,213 - root - INFO - Saved model models/mb1-ssd-lite-Epoch-20-Loss-5.249172210693359.pth\n",
            "2022-03-17 06:45:32,727 - root - INFO - Epoch: 25, Validation Loss: 5.1942, Validation Regression Loss 2.8671, Validation Classification Loss: 2.3271\n",
            "2022-03-17 06:45:32,770 - root - INFO - Saved model models/mb1-ssd-lite-Epoch-25-Loss-5.194231629371643.pth\n",
            "2022-03-17 06:48:18,446 - root - INFO - Epoch: 30, Validation Loss: 5.1327, Validation Regression Loss 2.8152, Validation Classification Loss: 2.3175\n",
            "2022-03-17 06:48:18,486 - root - INFO - Saved model models/mb1-ssd-lite-Epoch-30-Loss-5.1327208280563354.pth\n",
            "2022-03-17 06:51:03,277 - root - INFO - Epoch: 35, Validation Loss: 5.0857, Validation Regression Loss 2.7757, Validation Classification Loss: 2.3099\n",
            "2022-03-17 06:51:03,319 - root - INFO - Saved model models/mb1-ssd-lite-Epoch-35-Loss-5.085681438446045.pth\n",
            "2022-03-17 06:53:48,659 - root - INFO - Epoch: 40, Validation Loss: 5.0551, Validation Regression Loss 2.7502, Validation Classification Loss: 2.3049\n",
            "2022-03-17 06:53:48,700 - root - INFO - Saved model models/mb1-ssd-lite-Epoch-40-Loss-5.055119156837463.pth\n",
            "2022-03-17 06:56:38,040 - root - INFO - Epoch: 45, Validation Loss: 4.9817, Validation Regression Loss 2.6824, Validation Classification Loss: 2.2993\n",
            "2022-03-17 06:56:38,079 - root - INFO - Saved model models/mb1-ssd-lite-Epoch-45-Loss-4.981661438941956.pth\n",
            "2022-03-17 06:59:23,696 - root - INFO - Epoch: 50, Validation Loss: 4.9561, Validation Regression Loss 2.6603, Validation Classification Loss: 2.2958\n",
            "2022-03-17 06:59:23,735 - root - INFO - Saved model models/mb1-ssd-lite-Epoch-50-Loss-4.95607328414917.pth\n",
            "tcmalloc: large alloc 2037006336 bytes == 0x55f8112c0000 @  0x7f7ddb2b0001 0x7f7cd9e9b1af 0x7f7cd9ef1c23 0x7f7cd9ef2a87 0x7f7cd9f94823 0x55f6f7b7b34c 0x55f6f7b7b120 0x55f6f7befb80 0x55f6f7b7cf19 0x55f6f7bc0a79 0x55f6f7b7bb32 0x55f6f7bef1dd 0x55f6f7bea02f 0x55f6f7b7d151 0x55f6f7bc0a79 0x55f6f7b7bb32 0x55f6f7befa6d 0x55f6f7b7cf19 0x55f6f7bc0a79 0x55f6f7b7bb32 0x55f6f7befa6d 0x55f6f7b7ea6b 0x55f6f7bc0029 0x55f6f7bbff9c 0x55f6f7c64129 0x55f6f7beb417 0x55f6f7b7ea6b 0x55f6f7bc0029 0x55f6f7bbff9c 0x55f6f7c64129 0x55f6f7beb417\n",
            "2022-03-17 07:02:07,541 - root - INFO - Epoch: 55, Validation Loss: 4.9672, Validation Regression Loss 2.6756, Validation Classification Loss: 2.2916\n",
            "2022-03-17 07:02:07,579 - root - INFO - Saved model models/mb1-ssd-lite-Epoch-55-Loss-4.96723997592926.pth\n",
            "2022-03-17 07:04:54,773 - root - INFO - Epoch: 60, Validation Loss: 4.9174, Validation Regression Loss 2.6285, Validation Classification Loss: 2.2889\n",
            "2022-03-17 07:04:54,812 - root - INFO - Saved model models/mb1-ssd-lite-Epoch-60-Loss-4.9173643589019775.pth\n",
            "2022-03-17 07:07:44,193 - root - INFO - Epoch: 65, Validation Loss: 4.8899, Validation Regression Loss 2.6033, Validation Classification Loss: 2.2867\n",
            "2022-03-17 07:07:44,233 - root - INFO - Saved model models/mb1-ssd-lite-Epoch-65-Loss-4.88994824886322.pth\n",
            "2022-03-17 07:10:27,350 - root - INFO - Epoch: 70, Validation Loss: 4.9012, Validation Regression Loss 2.6179, Validation Classification Loss: 2.2833\n",
            "2022-03-17 07:10:27,391 - root - INFO - Saved model models/mb1-ssd-lite-Epoch-70-Loss-4.901213645935059.pth\n",
            "2022-03-17 07:13:14,273 - root - INFO - Epoch: 75, Validation Loss: 4.8779, Validation Regression Loss 2.5974, Validation Classification Loss: 2.2806\n",
            "2022-03-17 07:13:14,320 - root - INFO - Saved model models/mb1-ssd-lite-Epoch-75-Loss-4.877927660942078.pth\n",
            "2022-03-17 07:15:58,753 - root - INFO - Epoch: 80, Validation Loss: 4.8524, Validation Regression Loss 2.5735, Validation Classification Loss: 2.2789\n",
            "2022-03-17 07:15:58,798 - root - INFO - Saved model models/mb1-ssd-lite-Epoch-80-Loss-4.852425694465637.pth\n",
            "2022-03-17 07:18:43,588 - root - INFO - Epoch: 85, Validation Loss: 4.8366, Validation Regression Loss 2.5589, Validation Classification Loss: 2.2777\n",
            "2022-03-17 07:18:43,633 - root - INFO - Saved model models/mb1-ssd-lite-Epoch-85-Loss-4.836588621139526.pth\n",
            "2022-03-17 07:21:32,512 - root - INFO - Epoch: 90, Validation Loss: 4.8335, Validation Regression Loss 2.5547, Validation Classification Loss: 2.2789\n",
            "2022-03-17 07:21:32,552 - root - INFO - Saved model models/mb1-ssd-lite-Epoch-90-Loss-4.833513498306274.pth\n",
            "2022-03-17 07:24:18,141 - root - INFO - Epoch: 95, Validation Loss: 4.8371, Validation Regression Loss 2.5588, Validation Classification Loss: 2.2784\n",
            "2022-03-17 07:24:18,183 - root - INFO - Saved model models/mb1-ssd-lite-Epoch-95-Loss-4.837143182754517.pth\n",
            "2022-03-17 07:27:06,323 - root - INFO - Epoch: 100, Validation Loss: 4.8301, Validation Regression Loss 2.5521, Validation Classification Loss: 2.2780\n",
            "2022-03-17 07:27:06,364 - root - INFO - Saved model models/mb1-ssd-lite-Epoch-100-Loss-4.830088138580322.pth\n",
            "2022-03-17 07:29:49,792 - root - INFO - Epoch: 105, Validation Loss: 4.8213, Validation Regression Loss 2.5435, Validation Classification Loss: 2.2778\n",
            "2022-03-17 07:29:49,835 - root - INFO - Saved model models/mb1-ssd-lite-Epoch-105-Loss-4.8213300704956055.pth\n",
            "2022-03-17 07:32:40,264 - root - INFO - Epoch: 110, Validation Loss: 4.8297, Validation Regression Loss 2.5517, Validation Classification Loss: 2.2779\n",
            "2022-03-17 07:32:40,313 - root - INFO - Saved model models/mb1-ssd-lite-Epoch-110-Loss-4.829670310020447.pth\n",
            "2022-03-17 07:35:29,523 - root - INFO - Epoch: 115, Validation Loss: 4.8261, Validation Regression Loss 2.5489, Validation Classification Loss: 2.2772\n",
            "2022-03-17 07:35:29,564 - root - INFO - Saved model models/mb1-ssd-lite-Epoch-115-Loss-4.826085209846497.pth\n",
            "2022-03-17 07:37:35,116 - root - INFO - Epoch: 119, Validation Loss: 4.8277, Validation Regression Loss 2.5494, Validation Classification Loss: 2.2783\n",
            "2022-03-17 07:37:35,159 - root - INFO - Saved model models/mb1-ssd-lite-Epoch-119-Loss-4.827713966369629.pth\n"
          ]
        }
      ]
    },
    {
      "cell_type": "code",
      "source": [
        "shutil.copy (\"/content/object_detection_pytorch_ssd/object_detection_pytorch_ssd/models/mb1-ssd-lite-Epoch-119-Loss-4.827713966369629.pth\",\"/content/drive/MyDrive/119Epoch-MobSSD.pth\")"
      ],
      "metadata": {
        "colab": {
          "base_uri": "https://localhost:8080/",
          "height": 35
        },
        "id": "A5ZI_3xZ0Tdn",
        "outputId": "f942c5e8-e08d-4b89-bd80-a4ffecda7219"
      },
      "execution_count": null,
      "outputs": [
        {
          "output_type": "execute_result",
          "data": {
            "text/plain": [
              "'/content/drive/MyDrive/119Epoch-MobSSD.pth'"
            ],
            "application/vnd.google.colaboratory.intrinsic+json": {
              "type": "string"
            }
          },
          "metadata": {},
          "execution_count": 17
        }
      ]
    },
    {
      "cell_type": "code",
      "source": [
        "shutil.copy (\"/content/object_detection_pytorch_ssd/object_detection_pytorch_ssd/models/mb1-ssd-lite-Epoch-119-Loss-4.827713966369629.pth\",\"/content/drive/MyDrive/115Epoch-LowestLoss-MobSSD.pth\")"
      ],
      "metadata": {
        "colab": {
          "base_uri": "https://localhost:8080/",
          "height": 35
        },
        "id": "VNRFyU4WyAlY",
        "outputId": "c15e72a5-9e2a-4af9-b324-e878db1b84ea"
      },
      "execution_count": null,
      "outputs": [
        {
          "output_type": "execute_result",
          "data": {
            "text/plain": [
              "'/content/drive/MyDrive/115Epoch-LowestLoss-MobSSD.pth'"
            ],
            "application/vnd.google.colaboratory.intrinsic+json": {
              "type": "string"
            }
          },
          "metadata": {},
          "execution_count": 19
        }
      ]
    },
    {
      "cell_type": "code",
      "source": [
        "!python eval_ssd.py  --dataset_type 'voc' --net 'mb1-ssd-lite' --trained_model /content/object_detection_pytorch_ssd/object_detection_pytorch_ssd/models/mb1-ssd-lite-Epoch-119-Loss-4.827713966369629.pth --eval_dir '/content/object_detection_pytorch_ssd/object_detection_pytorch_ssd/result/' --label_file '/content/object_detection_pytorch_ssd/object_detection_pytorch_ssd/VOC2007/ImageSets/Main/test.txt'\n"
      ],
      "metadata": {
        "colab": {
          "base_uri": "https://localhost:8080/"
        },
        "id": "M3-4kS-81uun",
        "outputId": "b2d83c68-af53-43e4-da06-fa08650c9d88"
      },
      "execution_count": null,
      "outputs": [
        {
          "output_type": "stream",
          "name": "stdout",
          "text": [
            "eval_ssd.py:69: UserWarning: To copy construct from a tensor, it is recommended to use sourceTensor.clone().detach() or sourceTensor.clone().detach().requires_grad_(True), rather than torch.tensor(sourceTensor).\n",
            "  all_gt_boxes[class_index][image_id] = torch.tensor(all_gt_boxes[class_index][image_id])\n",
            "Traceback (most recent call last):\n",
            "  File \"eval_ssd.py\", line 155, in <module>\n",
            "    net.load(args.trained_model)\n",
            "  File \"/content/object_detection_pytorch_ssd/object_detection_pytorch_ssd/vision/ssd/ssd.py\", line 135, in load\n",
            "    self.load_state_dict(torch.load(model, map_location=lambda storage, loc: storage))\n",
            "  File \"/usr/local/lib/python3.7/dist-packages/torch/nn/modules/module.py\", line 1483, in load_state_dict\n",
            "    self.__class__.__name__, \"\\n\\t\".join(error_msgs)))\n",
            "RuntimeError: Error(s) in loading state_dict for SSD:\n",
            "\tsize mismatch for classification_headers.0.2.weight: copying a param with shape torch.Size([12, 512, 1, 1]) from checkpoint, the shape in current model is torch.Size([648, 512, 1, 1]).\n",
            "\tsize mismatch for classification_headers.0.2.bias: copying a param with shape torch.Size([12]) from checkpoint, the shape in current model is torch.Size([648]).\n",
            "\tsize mismatch for classification_headers.1.2.weight: copying a param with shape torch.Size([12, 1024, 1, 1]) from checkpoint, the shape in current model is torch.Size([648, 1024, 1, 1]).\n",
            "\tsize mismatch for classification_headers.1.2.bias: copying a param with shape torch.Size([12]) from checkpoint, the shape in current model is torch.Size([648]).\n",
            "\tsize mismatch for classification_headers.2.2.weight: copying a param with shape torch.Size([12, 512, 1, 1]) from checkpoint, the shape in current model is torch.Size([648, 512, 1, 1]).\n",
            "\tsize mismatch for classification_headers.2.2.bias: copying a param with shape torch.Size([12]) from checkpoint, the shape in current model is torch.Size([648]).\n",
            "\tsize mismatch for classification_headers.3.2.weight: copying a param with shape torch.Size([12, 256, 1, 1]) from checkpoint, the shape in current model is torch.Size([648, 256, 1, 1]).\n",
            "\tsize mismatch for classification_headers.3.2.bias: copying a param with shape torch.Size([12]) from checkpoint, the shape in current model is torch.Size([648]).\n",
            "\tsize mismatch for classification_headers.4.2.weight: copying a param with shape torch.Size([12, 256, 1, 1]) from checkpoint, the shape in current model is torch.Size([648, 256, 1, 1]).\n",
            "\tsize mismatch for classification_headers.4.2.bias: copying a param with shape torch.Size([12]) from checkpoint, the shape in current model is torch.Size([648]).\n",
            "\tsize mismatch for classification_headers.5.weight: copying a param with shape torch.Size([12, 256, 1, 1]) from checkpoint, the shape in current model is torch.Size([648, 256, 1, 1]).\n",
            "\tsize mismatch for classification_headers.5.bias: copying a param with shape torch.Size([12]) from checkpoint, the shape in current model is torch.Size([648]).\n"
          ]
        }
      ]
    },
    {
      "cell_type": "code",
      "source": [
        ""
      ],
      "metadata": {
        "id": "LJZ_OUXBIgOZ"
      },
      "execution_count": null,
      "outputs": []
    },
    {
      "cell_type": "code",
      "source": [
        "!zip -q -r PedesDetecSSD.zip /content/object_detection_pytorch_ssd/object_detection_pytorch_ssd"
      ],
      "metadata": {
        "id": "C1rJ_dlg4jTP"
      },
      "execution_count": null,
      "outputs": []
    },
    {
      "cell_type": "code",
      "source": [
        "shutil.copy (\"/content/object_detection_pytorch_ssd/object_detection_pytorch_ssd/PedesDetecSSD.zip\",\"/content/drive/MyDrive/PedesDetecSSD.zip\")"
      ],
      "metadata": {
        "colab": {
          "base_uri": "https://localhost:8080/",
          "height": 35
        },
        "id": "W4kfwAyCGR0v",
        "outputId": "39541575-aa05-4562-9e63-92773e51ba50"
      },
      "execution_count": null,
      "outputs": [
        {
          "output_type": "execute_result",
          "data": {
            "text/plain": [
              "'/content/drive/MyDrive/PedesDetecSSD.zip'"
            ],
            "application/vnd.google.colaboratory.intrinsic+json": {
              "type": "string"
            }
          },
          "metadata": {},
          "execution_count": 37
        }
      ]
    },
    {
      "cell_type": "code",
      "source": [
        "!python draw_eval_results.py 'evalFile' "
      ],
      "metadata": {
        "id": "HV5Cs7uc4BLc"
      },
      "execution_count": null,
      "outputs": []
    },
    {
      "cell_type": "code",
      "source": [
        "!python run_ssd_example.py mb1-ssd-lite /content/object_detection_pytorch_ssd/object_detection_pytorch_ssd/models/mb1-ssd-lite-Epoch-119-Loss-4.827713966369629.pth /content/object_detection_pytorch_ssd/object_detection_pytorch_ssd/models/voc-model-labels.txt /content/object_detection_pytorch_ssd/object_detection_pytorch_ssd/VOC2007/JPEGImages/img00099.jpg\n"
      ],
      "metadata": {
        "colab": {
          "base_uri": "https://localhost:8080/"
        },
        "id": "6lpqA9NlIzqC",
        "outputId": "72ee4cb8-e248-40f2-edad-9e958ff39e5b"
      },
      "execution_count": null,
      "outputs": [
        {
          "output_type": "stream",
          "name": "stdout",
          "text": [
            "Inference time:  0.03534245491027832\n",
            "Found 0 objects. The output image is run_ssd_example_output.jpg\n"
          ]
        }
      ]
    },
    {
      "cell_type": "code",
      "source": [
        "!python train_ssd.py --net mb1-ssd"
      ],
      "metadata": {
        "colab": {
          "base_uri": "https://localhost:8080/"
        },
        "id": "izF5vgTULlum",
        "outputId": "140ce237-3c56-479f-a637-6bfd8119a37f"
      },
      "execution_count": null,
      "outputs": [
        {
          "output_type": "stream",
          "name": "stdout",
          "text": [
            "2022-03-17 09:22:26,620 - root - INFO - Use Cuda.\n",
            "2022-03-17 09:22:26,620 - root - INFO - Namespace(balance_data=False, base_net=None, base_net_lr=None, batch_size=32, checkpoint_folder='models/', dataset_type='voc', datasets=['./VOC2007'], debug_steps=100, extra_layers_lr=None, freeze_base_net=False, freeze_net=False, gamma=0.1, lr=0.001, mb2_width_mult=1.0, milestones='80,100', momentum=0.9, net='mb1-ssd', num_epochs=120, num_workers=0, pretrained_ssd=None, resume=None, scheduler='multi-step', t_max=120, use_cuda=True, validation_dataset='./VOC2007', validation_epochs=5, weight_decay=0.0005)\n",
            "2022-03-17 09:22:26,621 - root - INFO - Prepare training datasets.\n",
            "2022-03-17 09:22:26,621 - root - INFO - No labels file, using default VOC classes.\n",
            "2022-03-17 09:22:26,621 - root - INFO - Stored labels into file models/voc-model-labels.txt.\n",
            "2022-03-17 09:22:26,621 - root - INFO - Train dataset size: 971\n",
            "2022-03-17 09:22:26,622 - root - INFO - Prepare Validation datasets.\n",
            "2022-03-17 09:22:26,622 - root - INFO - No labels file, using default VOC classes.\n",
            "2022-03-17 09:22:26,622 - root - INFO - validation dataset size: 108\n",
            "2022-03-17 09:22:26,622 - root - INFO - Build network.\n",
            "2022-03-17 09:22:26,691 - root - INFO - Took 0.00 seconds to load the model.\n",
            "2022-03-17 09:22:30,665 - root - INFO - Learning rate: 0.001, Base net learning rate: 0.001, Extra Layers learning rate: 0.001.\n",
            "2022-03-17 09:22:30,666 - root - INFO - Uses MultiStepLR scheduler.\n",
            "2022-03-17 09:22:30,666 - root - INFO - Start training from epoch 0.\n",
            "/usr/local/lib/python3.7/dist-packages/torch/optim/lr_scheduler.py:134: UserWarning: Detected call of `lr_scheduler.step()` before `optimizer.step()`. In PyTorch 1.1.0 and later, you should call them in the opposite order: `optimizer.step()` before `lr_scheduler.step()`.  Failure to do this will result in PyTorch skipping the first value of the learning rate schedule. See more details at https://pytorch.org/docs/stable/optim.html#how-to-adjust-learning-rate\n",
            "  \"https://pytorch.org/docs/stable/optim.html#how-to-adjust-learning-rate\", UserWarning)\n",
            "/content/object_detection_pytorch_ssd/object_detection_pytorch_ssd/vision/transforms/transforms.py:247: VisibleDeprecationWarning: Creating an ndarray from ragged nested sequences (which is a list-or-tuple of lists-or-tuples-or ndarrays with different lengths or shapes) is deprecated. If you meant to do this, you must specify 'dtype=object' when creating the ndarray.\n",
            "  mode = random.choice(self.sample_options)\n",
            "/usr/local/lib/python3.7/dist-packages/torch/nn/_reduction.py:42: UserWarning: size_average and reduce args will be deprecated, please use reduction='sum' instead.\n",
            "  warnings.warn(warning.format(ret))\n",
            "tcmalloc: large alloc 1430585344 bytes == 0x55fb9fbc4000 @  0x7f2a698f1001 0x7f29684dc1af 0x7f2968532c23 0x7f2968533a87 0x7f29685d5823 0x55faccaf534c 0x55faccaf5120 0x55faccb69b80 0x55faccaf6f19 0x55faccb3aa79 0x55faccaf5b32 0x55faccb691dd 0x55faccb6402f 0x55faccaf7151 0x55faccb3aa79 0x55faccaf5b32 0x55faccb69a6d 0x55faccaf6f19 0x55faccb3aa79 0x55faccaf5b32 0x55faccb69a6d 0x55faccaf8a6b 0x55faccb3a029 0x55faccb39f9c 0x55faccbde129 0x55faccb65417 0x55faccaf8a6b 0x55faccb3a029 0x55faccb39f9c 0x55faccbde129 0x55faccb65417\n",
            "2022-03-17 09:23:09,900 - root - INFO - Epoch: 0, Validation Loss: 6.7509, Validation Regression Loss 3.0815, Validation Classification Loss: 3.6693\n",
            "2022-03-17 09:23:09,954 - root - INFO - Saved model models/mb1-ssd-Epoch-0-Loss-6.750895023345947.pth\n",
            "tcmalloc: large alloc 1736556544 bytes == 0x55fb9c942000 @  0x7f2a698f1001 0x7f29684dc1af 0x7f2968532c23 0x7f2968533a87 0x7f29685d5823 0x55faccaf534c 0x55faccaf5120 0x55faccb69b80 0x55faccaf6f19 0x55faccb3aa79 0x55faccaf5b32 0x55faccb691dd 0x55faccb6402f 0x55faccaf7151 0x55faccb3aa79 0x55faccaf5b32 0x55faccb69a6d 0x55faccaf6f19 0x55faccb3aa79 0x55faccaf5b32 0x55faccb69a6d 0x55faccaf8a6b 0x55faccb3a029 0x55faccb39f9c 0x55faccbde129 0x55faccb65417 0x55faccaf8a6b 0x55faccb3a029 0x55faccb39f9c 0x55faccbde129 0x55faccb65417\n",
            "tcmalloc: large alloc 1453416448 bytes == 0x55fb89dc6000 @  0x7f2a698f1001 0x7f29684dc1af 0x7f2968532c23 0x7f2968533a87 0x7f29685d5823 0x55faccaf534c 0x55faccaf5120 0x55faccb69b80 0x55faccaf6f19 0x55faccb3aa79 0x55faccaf5b32 0x55faccb691dd 0x55faccb6402f 0x55faccaf7151 0x55faccb3aa79 0x55faccaf5b32 0x55faccb69a6d 0x55faccaf6f19 0x55faccb3aa79 0x55faccaf5b32 0x55faccb69a6d 0x55faccaf8a6b 0x55faccb3a029 0x55faccb39f9c 0x55faccbde129 0x55faccb65417 0x55faccaf8a6b 0x55faccb3a029 0x55faccb39f9c 0x55faccbde129 0x55faccb65417\n",
            "2022-03-17 09:25:52,129 - root - INFO - Epoch: 5, Validation Loss: 5.8004, Validation Regression Loss 2.9368, Validation Classification Loss: 2.8636\n",
            "2022-03-17 09:25:52,184 - root - INFO - Saved model models/mb1-ssd-Epoch-5-Loss-5.800422668457031.pth\n",
            "tcmalloc: large alloc 2132107264 bytes == 0x55fb89dc6000 @  0x7f2a698f1001 0x7f29684dc1af 0x7f2968532c23 0x7f2968533a87 0x7f29685d5823 0x55faccaf534c 0x55faccaf5120 0x55faccb69b80 0x55faccaf6f19 0x55faccb3aa79 0x55faccaf5b32 0x55faccb691dd 0x55faccb6402f 0x55faccaf7151 0x55faccb3aa79 0x55faccaf5b32 0x55faccb69a6d 0x55faccaf6f19 0x55faccb3aa79 0x55faccaf5b32 0x55faccb69a6d 0x55faccaf8a6b 0x55faccb3a029 0x55faccb39f9c 0x55faccbde129 0x55faccb65417 0x55faccaf8a6b 0x55faccb3a029 0x55faccb39f9c 0x55faccbde129 0x55faccb65417\n",
            "tcmalloc: large alloc 1899773952 bytes == 0x55fb89dc6000 @  0x7f2a698f1001 0x7f29684dc1af 0x7f2968532c23 0x7f2968533a87 0x7f29685d5823 0x55faccaf534c 0x55faccaf5120 0x55faccb69b80 0x55faccaf6f19 0x55faccb3aa79 0x55faccaf5b32 0x55faccb691dd 0x55faccb6402f 0x55faccaf7151 0x55faccb3aa79 0x55faccaf5b32 0x55faccb69a6d 0x55faccaf6f19 0x55faccb3aa79 0x55faccaf5b32 0x55faccb69a6d 0x55faccaf8a6b 0x55faccb3a029 0x55faccb39f9c 0x55faccbde129 0x55faccb65417 0x55faccaf8a6b 0x55faccb3a029 0x55faccb39f9c 0x55faccbde129 0x55faccb65417\n"
          ]
        }
      ]
    }
  ]
}